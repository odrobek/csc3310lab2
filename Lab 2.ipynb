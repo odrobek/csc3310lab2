{
 "cells": [
  {
   "cell_type": "markdown",
   "id": "00020e16",
   "metadata": {},
   "source": [
    "# Lab 2 - \n",
    "## CSC 3310\n",
    "### Olek Drobek\n",
    "\n",
    "### Abstract\n",
    "In this lab, ..."
   ]
  },
  {
   "cell_type": "code",
   "execution_count": null,
   "id": "41bc43e6",
   "metadata": {},
   "outputs": [],
   "source": []
  }
 ],
 "metadata": {
  "kernelspec": {
   "display_name": "Python 3 (ipykernel)",
   "language": "python",
   "name": "python3"
  },
  "language_info": {
   "codemirror_mode": {
    "name": "ipython",
    "version": 3
   },
   "file_extension": ".py",
   "mimetype": "text/x-python",
   "name": "python",
   "nbconvert_exporter": "python",
   "pygments_lexer": "ipython3",
   "version": "3.11.4"
  }
 },
 "nbformat": 4,
 "nbformat_minor": 5
}
